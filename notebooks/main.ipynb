{
 "cells": [
  {
   "cell_type": "code",
   "execution_count": null,
   "metadata": {
    "collapsed": true
   },
   "outputs": [],
   "source": [
    "import sklearn\n",
    "\n",
    "import numpy as np\n",
    "import pandas as pd\n",
    "\n",
    "%matplotlib inline\n",
    "import matplotlib as mpl\n",
    "import matplotlib.pyplot as plt\n",
    "\n",
    "np.random.seed(2022)\n",
    "\n",
    "def load_customer():\n",
    "    # read the customers from the storage\n",
    "    customers = pd.read_csv(\"customers.csv\")\n",
    "    # rename the column names with the CUSTOMER prefix\n",
    "    new_column_names = {\n",
    "        \"REV_CURRENT_YEAR.1\": \"CUSTOMER_REV_CURRENT_YEAR\",\n",
    "        \"REV_CURRENT_YEAR.2\": \"CUSTOMER_REV_PAST_YEAR\",\n",
    "        \"CREATION_YEAR\": \"CUSTOMER_CREATION_YEAR\",\n",
    "        \"OWNERSHIP\": \"CUSTOMER_OWNERSHIP\",\n",
    "        \"CURRENCY\": \"CUSTOMER_CURRENCY\"\n",
    "    }\n",
    "    customers.rename(columns=new_column_names, inplace=True)\n",
    "    # map the country to the same format in the geo csv\n",
    "    customers['COUNTRY'] = customers['COUNTRY'].map({'Switzerland': 'CH', 'France': 'FR'})\n",
    "    # this column has no information because it's the same then CUSTOMER_REV_CURRENT_YEAR\n",
    "    customers.drop(columns=['REV_CURRENT_YEAR'], inplace=True)\n",
    "    return customers\n",
    "\n",
    "\n",
    "def load_geo():\n",
    "    geo = pd.read_csv('geo.csv')\n",
    "    new_column_names = {\n",
    "        \"SALES_OFFICE\": \"GEO_SALES_OFFICE\",\n",
    "        \"SALES_BRANCH\": \"GEO_SALES_BRANCH\",\n",
    "    }\n",
    "    geo.rename(columns=new_column_names, inplace=True)\n",
    "    return geo\n",
    "\n",
    "\n",
    "def load_transaction():\n",
    "    transactions = pd.read_csv(\"transactions.csv\")\n",
    "    transactions['CUSTOMER'] = transactions['CUSTOMER'].str.replace('\"', '')\n",
    "    transactions['CUSTOMER'] = transactions['CUSTOMER'].replace('#NV', np.nan)\n",
    "    transactions['CUSTOMER'] = pd.to_numeric(transactions['CUSTOMER'], errors='coerce')\n",
    "    # map the offer status to a boolean\n",
    "    transactions['OFFER_STATUS'] = transactions['OFFER_STATUS'].apply(\n",
    "        lambda x: 1 if x in ['WIN', 'Win', 'WON', 'Won'] else 0)\n",
    "    return transactions\n",
    "\n",
    "\n",
    "def load_data():\n",
    "    transactions_geo = pd.merge(left=load_transaction(), right=load_geo(), on='SALES_LOCATION', how='left')\n",
    "    transactions_geo_customer = pd.merge(left=transactions_geo, right=load_customer(), on=['CUSTOMER', \"COUNTRY\"],\n",
    "                                         how='left')\n",
    "    transactions_geo_customer.columns = transactions_geo_customer.columns.str.lower()\n",
    "    return transactions_geo_customer"
   ]
  },
  {
   "cell_type": "code",
   "execution_count": null,
   "metadata": {
    "collapsed": false,
    "pycharm": {
     "name": "#%%\n"
    }
   },
   "outputs": [],
   "source": [
    "from sklearn.model_selection import train_test_split\n",
    "\n",
    "def split_validation_test_train(df):\n",
    "    validation = df[~pd.isna(df['test_set_id'])]\n",
    "    _X_val = validation.drop(['offer_status', 'test_set_id'], axis=1)\n",
    "    _y_test_set_id = validation['test_set_id']\n",
    "    data = df[pd.isna(df['test_set_id'])].drop('test_set_id', axis=1)\n",
    "    X = data.drop('offer_status', axis=1)\n",
    "    y = data['offer_status']\n",
    "    _X_train, _X_test, _y_train, _y_test = train_test_split(X, y, test_size=0.2, random_state=2022)\n",
    "    return _X_val, _X_train, _X_test, _y_test_set_id, _y_train, _y_test"
   ]
  },
  {
   "cell_type": "code",
   "execution_count": null,
   "metadata": {
    "collapsed": false,
    "pycharm": {
     "name": "#%%\n"
    }
   },
   "outputs": [],
   "source": [
    "X_val, X_train, X_test, y_test_set_id, y_train, y_test = split_validation_test_train(load_data())"
   ]
  },
  {
   "cell_type": "code",
   "execution_count": null,
   "metadata": {
    "collapsed": false,
    "pycharm": {
     "name": "#%%\n"
    }
   },
   "outputs": [],
   "source": [
    "Exploratory = X_train.copy()"
   ]
  },
  {
   "cell_type": "code",
   "execution_count": null,
   "metadata": {
    "collapsed": false,
    "pycharm": {
     "name": "#%%\n"
    }
   },
   "outputs": [],
   "source": [
    "def feature_engineering(df):\n",
    "    # CUSTOMER\n",
    "    # map the different customer currency to euro\n",
    "    to_Euro = {'Pound Sterling': 1.19, 'US Dollar': 0.88, 'Chinese Yuan': 0.14, 'Euro': 1}\n",
    "    df[\"currency_factor\"] = df[\"customer_currency\"].map(to_Euro)\n",
    "    df[\"customer_rev_current_year\"] = df[\"customer_rev_current_year\"] * df[\"currency_factor\"]\n",
    "    df[\"customer_rev_past_year\"] = df[\"customer_rev_past_year\"] * df[\"currency_factor\"]\n",
    "    # The delta between the revenue of the last and the current year\n",
    "    df[\"customer_rev_increase\"] = df[\"customer_rev_current_year\"] - df[\"customer_rev_past_year\"]\n",
    "    # Calculate the distance between the current year and when the customer comes.\n",
    "    df['customer_creation_year'] = pd.to_datetime(df['customer_creation_year'])\n",
    "    df['customer_creation_year'] = 2022 - df['customer_creation_year'].apply(lambda x: x.year)\n",
    "\n",
    "    # TRANSACTION\n",
    "    df['end_customer'] = df['end_customer'].fillna('No').apply(lambda x: x if x in ['No', 'Yes'] else 'Yes')\n",
    "    offers_count = df['mo_id'].value_counts()\n",
    "    df['offers_count'] = df['mo_id'].apply(lambda x: offers_count[x])\n",
    "    # The columns to drop\n",
    "    df = df.drop(columns=['currency_factor', 'mo_id', 'so_id', 'customer', 'mo_created_date', 'so_created_date', 'costs_product_a', 'costs_product_b', 'costs_product_c', 'costs_product_d', 'costs_product_e', 'customer_currency'], axis=1)\n",
    "    #\n",
    "    df = df.drop(columns=['sales_location', 'country', 'geo_sales_office', 'geo_sales_branch', 'customer_rev_current_year', 'customer_rev_past_year','customer_ownership', 'customer_creation_year', 'material_cost', 'service_cost', 'price_list', 'isic'], axis=1)\n",
    "    return df\n",
    "\n",
    "Exploratory = feature_engineering(X_train)\n",
    "Exploratory"
   ]
  },
  {
   "cell_type": "code",
   "execution_count": null,
   "metadata": {
    "collapsed": false,
    "pycharm": {
     "name": "#%%\n"
    }
   },
   "outputs": [],
   "source": [
    "from sklearn.preprocessing import StandardScaler, OrdinalEncoder\n",
    "from sklearn.impute import SimpleImputer\n",
    "from sklearn.compose import ColumnTransformer\n",
    "from sklearn.pipeline import Pipeline\n",
    "\n",
    "numeric_transformer = Pipeline(steps=[\n",
    "       ('imputer', SimpleImputer(strategy='mean'))\n",
    "      ,('scaler', StandardScaler())\n",
    "])\n",
    "categorical_transformer = Pipeline(steps=[\n",
    "       ('imputer', SimpleImputer(strategy='constant'))\n",
    "      ,('encoder', OrdinalEncoder())\n",
    "])\n",
    "\n",
    "numeric_features = [col for col in Exploratory.columns if Exploratory.dtypes[col] != 'object']\n",
    "categorical_features = [col for col in Exploratory.columns if Exploratory.dtypes[col] == 'object']\n",
    "print(numeric_features, categorical_features)\n",
    "preprocessor = ColumnTransformer(\n",
    "   transformers=[\n",
    "    ('numeric', numeric_transformer, numeric_features)\n",
    "   ,('categorical', categorical_transformer, categorical_features)\n",
    "])"
   ]
  },
  {
   "cell_type": "code",
   "execution_count": null,
   "metadata": {
    "collapsed": false,
    "pycharm": {
     "name": "#%%\n"
    }
   },
   "outputs": [],
   "source": [
    "from sklearn.linear_model import LogisticRegression\n",
    "pipeline = Pipeline(steps = [\n",
    "               ('preprocessor', preprocessor)\n",
    "              ,('regressor',LogisticRegression())\n",
    "           ])\n",
    "rf_model = pipeline.fit(Exploratory, y_train)"
   ]
  },
  {
   "cell_type": "code",
   "execution_count": null,
   "metadata": {
    "collapsed": false,
    "pycharm": {
     "name": "#%%\n"
    }
   },
   "outputs": [],
   "source": [
    "from sklearn.metrics import balanced_accuracy_score\n",
    "y_pred = rf_model.predict(feature_engineering(Exploratory))\n",
    "print (balanced_accuracy_score(y_test, y_pred))"
   ]
  },
  {
   "cell_type": "code",
   "execution_count": null,
   "metadata": {
    "collapsed": false,
    "pycharm": {
     "name": "#%%\n"
    }
   },
   "outputs": [],
   "source": [
    "test = feature_engineering(Exploratory)"
   ]
  },
  {
   "cell_type": "code",
   "execution_count": null,
   "metadata": {
    "collapsed": false,
    "pycharm": {
     "name": "#%%\n"
    }
   },
   "outputs": [],
   "source": [
    "[col for col in test.columns if test.dtypes[col] == 'object']"
   ]
  },
  {
   "cell_type": "code",
   "execution_count": null,
   "metadata": {
    "collapsed": false,
    "pycharm": {
     "name": "#%%\n"
    }
   },
   "outputs": [],
   "source": [
    "preprocessor.transform(prepared_X_test)"
   ]
  }
 ],
 "metadata": {
  "kernelspec": {
   "display_name": "Python 3",
   "language": "python",
   "name": "python3"
  },
  "language_info": {
   "codemirror_mode": {
    "name": "ipython",
    "version": 2
   },
   "file_extension": ".py",
   "mimetype": "text/x-python",
   "name": "python",
   "nbconvert_exporter": "python",
   "pygments_lexer": "ipython2",
   "version": "2.7.6"
  }
 },
 "nbformat": 4,
 "nbformat_minor": 0
}
