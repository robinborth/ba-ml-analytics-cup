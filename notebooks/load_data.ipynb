{
 "cells": [
  {
   "cell_type": "code",
   "execution_count": null,
   "metadata": {
    "collapsed": true
   },
   "outputs": [],
   "source": [
    "import pandas as pd\n",
    "import numpy as np\n",
    "\n",
    "\n",
    "def load_customer():\n",
    "    # read the customers from the storage\n",
    "    customers = pd.read_csv(\"customers.csv\")\n",
    "    # rename the column names with the CUSTOMER prefix\n",
    "    new_column_names = {\n",
    "        \"REV_CURRENT_YEAR.1\": \"CUSTOMER_REV_CURRENT_YEAR\",\n",
    "        \"REV_CURRENT_YEAR.2\": \"CUSTOMER_REV_PAST_YEAR\",\n",
    "        \"OWNERSHIP\": \"CUSTOMER_OWNERSHIP\",\n",
    "        \"CURRENCY\": \"CUSTOMER_CURRENCY\"\n",
    "    }\n",
    "    customers.rename(columns=new_column_names, inplace=True)\n",
    "    # map the country to the same format in the geo csv\n",
    "    customers['COUNTRY'] = customers['COUNTRY'].map({'Switzerland': 'CH', 'France': 'FR'})\n",
    "    # this column has no information because it's the same then CUSTOMER_REV_CURRENT_YEAR\n",
    "    customers.drop(columns=['REV_CURRENT_YEAR'], inplace=True)\n",
    "    return customers\n",
    "\n",
    "\n",
    "def load_geo():\n",
    "    geo = pd.read_csv('geo.csv')\n",
    "    new_column_names = {\n",
    "        \"SALES_OFFICE\": \"GEO_SALES_OFFICE\",\n",
    "        \"SALES_BRANCH\": \"GEO_SALES_BRANCH\",\n",
    "    }\n",
    "    geo.rename(columns=new_column_names, inplace=True)\n",
    "    return geo\n",
    "\n",
    "\n",
    "def load_transaction():\n",
    "    transactions = pd.read_csv(\"transactions.csv\")\n",
    "    transactions['CUSTOMER'] = transactions['CUSTOMER'].str.replace('\"', '')\n",
    "    transactions['CUSTOMER'] = transactions['CUSTOMER'].replace('#NV', np.nan)\n",
    "    transactions['CUSTOMER'] = pd.to_numeric(transactions['CUSTOMER'], errors='coerce')\n",
    "    # the end customer has many null values, now it indicates only if the customer has an end customer\n",
    "    transactions['END_CUSTOMER'] = transactions['END_CUSTOMER'].fillna('No').apply(\n",
    "        lambda x: x if x in ['No', 'Yes'] else 'Yes')\n",
    "    # map the offer status to a boolean\n",
    "    transactions['OFFER_STATUS'] = transactions['OFFER_STATUS'].apply(\n",
    "        lambda x: 1 if x in ['WIN', 'Win', 'WON', 'Won'] else 0)\n",
    "    return transactions\n",
    "\n",
    "\n",
    "def load_data():\n",
    "    transactions_geo = pd.merge(left=load_transaction(), right=load_geo(), on='SALES_LOCATION', how='left')\n",
    "    transactions_geo_customer = pd.merge(left=transactions_geo, right=load_customer(), on=['CUSTOMER', \"COUNTRY\"],\n",
    "                                         how='left')\n",
    "    return transactions_geo_customer"
   ]
  },
  {
   "cell_type": "code",
   "execution_count": null,
   "metadata": {
    "collapsed": false,
    "pycharm": {
     "name": "#%%\n"
    }
   },
   "outputs": [],
   "source": [
    "geo = load_geo()\n",
    "geo.head()"
   ]
  },
  {
   "cell_type": "code",
   "execution_count": null,
   "metadata": {},
   "outputs": [],
   "source": [
    "customer = load_customer()\n",
    "customer.head()"
   ]
  },
  {
   "cell_type": "code",
   "execution_count": null,
   "metadata": {
    "collapsed": false,
    "pycharm": {
     "name": "#%%\n"
    }
   },
   "outputs": [],
   "source": [
    "transactions = load_transaction()\n",
    "transactions.head()"
   ]
  },
  {
   "cell_type": "code",
   "execution_count": null,
   "metadata": {
    "collapsed": false,
    "pycharm": {
     "name": "#%%\n"
    }
   },
   "outputs": [],
   "source": [
    "df = load_data()\n",
    "df.head()"
   ]
  },
  {
   "cell_type": "code",
   "execution_count": null,
   "metadata": {
    "collapsed": false,
    "pycharm": {
     "name": "#%%\n"
    }
   },
   "outputs": [],
   "source": [
    "def feature_customer(customers):\n",
    "    # 1 Pound Sterling = 1.19 Euro\n",
    "    # 1 US Dollar = 0.88 Euro\n",
    "    # 1 Chinese Yuan = 0.14 Euro\n",
    "    to_Euro = {'Pound Sterling': 1.19, 'US Dollar': 0.88, 'Chinese Yuan': 0.14, 'Euro': 1}\n",
    "    customers[\"CURRENCY_FACTOR\"] = customers[\"CURRENCY\"].map(to_Euro)\n",
    "    customers[\"REV_CURRENT_YEAR\"] = customers[\"REV_CURRENT_YEAR\"] * customers[\"CURRENCY_FACTOR\"]\n",
    "    customers[\"REV_PAST_YEAR\"] = customers[\"REV_PAST_YEAR\"] * customers[\"CURRENCY_FACTOR\"]\n",
    "    customers.drop(columns=[\"CURRENCY_FACTOR\"], inplace=True)\n",
    "    # The delta between the revenue of the last and the current year\n",
    "    customers[\"REV_INCREASE\"] = customers[\"REV_CURRENT_YEAR\"] - customers[\"REV_PAST_YEAR\"]\n",
    "    customers['CREATION_YEAR'] = pd.to_datetime(customers['CREATION_YEAR'])\n",
    "    customers['TIME_DELTA'] = 2022 - customers['CREATION_YEAR'].apply(lambda x: x.year)\n",
    "    customers.drop(columns=['CREATION_YEAR'], inplace=True)"
   ]
  }
 ],
 "metadata": {
  "kernelspec": {
   "display_name": "Python 3.10.4 64-bit ('3.10.4')",
   "language": "python",
   "name": "python3"
  },
  "language_info": {
   "codemirror_mode": {
    "name": "ipython",
    "version": 2
   },
   "file_extension": ".py",
   "mimetype": "text/x-python",
   "name": "python",
   "nbconvert_exporter": "python",
   "pygments_lexer": "ipython2",
   "version": "3.10.4"
  },
  "vscode": {
   "interpreter": {
    "hash": "e01d282e1885f6977f419c29730e47d02dfe7fcd597b7ac50ac621fe0ff88a82"
   }
  }
 },
 "nbformat": 4,
 "nbformat_minor": 0
}
